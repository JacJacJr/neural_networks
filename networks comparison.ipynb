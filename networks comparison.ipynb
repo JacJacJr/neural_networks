{
  "nbformat": 4,
  "nbformat_minor": 0,
  "metadata": {
    "colab": {
      "provenance": []
    },
    "kernelspec": {
      "name": "python3",
      "display_name": "Python 3"
    },
    "language_info": {
      "name": "python"
    }
  },
  "cells": [
    {
      "cell_type": "code",
      "source": [
        "from tensorflow import keras\n",
        "import numpy as np\n",
        "from tensorflow.keras import layers\n",
        "import matplotlib.pyplot as plt\n",
        "\n",
        "nsteps = 50\n",
        "\n",
        "def generate_ts(bsize, nsteps):\n",
        "  f1, f2, off1, off2 = np.random.rand(4, bsize, 1)\n",
        "  time = np.linspace(0,1,nsteps)\n",
        "  series = 0.5 *np.sin((time-off1)*(f1*10+10))\n",
        "  series += 0.2 *np.sin((time - off2)*(f2 * 20 + 20))\n",
        "  series += 0.1 * (np.random.rand(bsize, nsteps) - 0.5)\n",
        "  return series[..., np.newaxis].astype(np.float32)\n",
        "\n",
        "plt.plot(generate_ts(1,nsteps)[0,:,0])"
      ],
      "metadata": {
        "colab": {
          "base_uri": "https://localhost:8080/",
          "height": 447
        },
        "id": "gXFsltjlbd1o",
        "outputId": "4253bd74-952a-4079-af98-8fb64feed640"
      },
      "execution_count": 22,
      "outputs": [
        {
          "output_type": "execute_result",
          "data": {
            "text/plain": [
              "[<matplotlib.lines.Line2D at 0x7f9992f8eec0>]"
            ]
          },
          "metadata": {},
          "execution_count": 22
        },
        {
          "output_type": "display_data",
          "data": {
            "text/plain": [
              "<Figure size 640x480 with 1 Axes>"
            ],
            "image/png": "[encoded data removed]"
          },
          "metadata": {}
        }
      ]
    },
    {
      "cell_type": "code",
      "source": [
        "nsteps = 50\n",
        "size = 10000\n",
        "trainf = 0.7\n",
        "testf = 0.1\n",
        "ntr = int(size*trainf)\n",
        "nte = int(size*testf)\n",
        "\n",
        "series = generate_ts(size, nsteps + 1)\n",
        "\n",
        "xtrain, ytrain = series[:ntr, :nsteps], series[:ntr, -1]\n",
        "xval, yval = series[ntr:size-nte, :nsteps], series[ntr:size-nte, -1]\n",
        "xtest, ytest = series[size-nte:, :nsteps], series[size-nte:, -1]\n",
        "xtrain.shape, ytrain.shape, xval.shape, yval.shape, xtest.shape, ytest.shape"
      ],
      "metadata": {
        "colab": {
          "base_uri": "https://localhost:8080/"
        },
        "id": "THUcQ9ZLaRrX",
        "outputId": "58e9149d-b842-4e38-ed2f-a4847bf7ab58"
      },
      "execution_count": 23,
      "outputs": [
        {
          "output_type": "execute_result",
          "data": {
            "text/plain": [
              "((7000, 50, 1), (7000, 1), (2000, 50, 1), (2000, 1), (1000, 50, 1), (1000, 1))"
            ]
          },
          "metadata": {},
          "execution_count": 23
        }
      ]
    },
    {
      "cell_type": "code",
      "source": [
        "# baseline:  powtarzanie ostatniej wartosci\n",
        "\n",
        "baseYpred = xval[:,-1]\n",
        "np.mean(keras.losses.mean_squared_error(baseYpred,yval))"
      ],
      "metadata": {
        "colab": {
          "base_uri": "https://localhost:8080/"
        },
        "id": "QwUnrz_reMK3",
        "outputId": "8b12f417-a134-49ff-eb4c-0fa9edf98f99"
      },
      "execution_count": 24,
      "outputs": [
        {
          "output_type": "execute_result",
          "data": {
            "text/plain": [
              "0.021016339"
            ]
          },
          "metadata": {},
          "execution_count": 24
        }
      ]
    },
    {
      "cell_type": "code",
      "source": [
        "# predyktor liniowy (1 neuron z liniowym wyjsciem)\n",
        "\n",
        "model = keras.models.Sequential([\n",
        "    keras.layers.Flatten(input_shape = [50,1]),\n",
        "    keras.layers.Dense(1)\n",
        "])"
      ],
      "metadata": {
        "id": "mB0ZbfvZfhJb"
      },
      "execution_count": 25,
      "outputs": []
    },
    {
      "cell_type": "code",
      "source": [
        "model.compile(optimizer = 'Adam', loss = 'mse', metrics = 'mae')"
      ],
      "metadata": {
        "id": "EWmAM36lfjTD"
      },
      "execution_count": 26,
      "outputs": []
    },
    {
      "cell_type": "code",
      "source": [
        "import time\n",
        "t0 = time.time()\n",
        "history = model.fit(xtrain, ytrain, epochs = 20)\n",
        "t1 = time.time()\n",
        "total = t1-t0"
      ],
      "metadata": {
        "colab": {
          "base_uri": "https://localhost:8080/"
        },
        "id": "KQC2GAq8g_QO",
        "outputId": "784273ee-815a-4a4c-87c8-070d2ad60eb9"
      },
      "execution_count": 44,
      "outputs": [
        {
          "output_type": "stream",
          "name": "stdout",
          "text": [
            "Epoch 1/20\n",
            "219/219 [==============================] - 0s 2ms/step - loss: 0.0032 - mae: 0.0452\n",
            "Epoch 2/20\n",
            "219/219 [==============================] - 0s 2ms/step - loss: 0.0032 - mae: 0.0452\n",
            "Epoch 3/20\n",
            "219/219 [==============================] - 0s 2ms/step - loss: 0.0031 - mae: 0.0452\n",
            "Epoch 4/20\n",
            "219/219 [==============================] - 0s 2ms/step - loss: 0.0031 - mae: 0.0452\n",
            "Epoch 5/20\n",
            "219/219 [==============================] - 0s 2ms/step - loss: 0.0031 - mae: 0.0450\n",
            "Epoch 6/20\n",
            "219/219 [==============================] - 0s 2ms/step - loss: 0.0031 - mae: 0.0450\n",
            "Epoch 7/20\n",
            "219/219 [==============================] - 0s 2ms/step - loss: 0.0031 - mae: 0.0451\n",
            "Epoch 8/20\n",
            "219/219 [==============================] - 0s 2ms/step - loss: 0.0031 - mae: 0.0449\n",
            "Epoch 9/20\n",
            "219/219 [==============================] - 0s 2ms/step - loss: 0.0031 - mae: 0.0450\n",
            "Epoch 10/20\n",
            "219/219 [==============================] - 0s 2ms/step - loss: 0.0031 - mae: 0.0450\n",
            "Epoch 11/20\n",
            "219/219 [==============================] - 0s 2ms/step - loss: 0.0031 - mae: 0.0450\n",
            "Epoch 12/20\n",
            "219/219 [==============================] - 0s 2ms/step - loss: 0.0031 - mae: 0.0448\n",
            "Epoch 13/20\n",
            "219/219 [==============================] - 0s 2ms/step - loss: 0.0031 - mae: 0.0448\n",
            "Epoch 14/20\n",
            "219/219 [==============================] - 0s 2ms/step - loss: 0.0031 - mae: 0.0447\n",
            "Epoch 15/20\n",
            "219/219 [==============================] - 0s 2ms/step - loss: 0.0031 - mae: 0.0445\n",
            "Epoch 16/20\n",
            "219/219 [==============================] - 0s 2ms/step - loss: 0.0031 - mae: 0.0447\n",
            "Epoch 17/20\n",
            "219/219 [==============================] - 0s 2ms/step - loss: 0.0031 - mae: 0.0447\n",
            "Epoch 18/20\n",
            "219/219 [==============================] - 0s 2ms/step - loss: 0.0031 - mae: 0.0448\n",
            "Epoch 19/20\n",
            "219/219 [==============================] - 0s 2ms/step - loss: 0.0031 - mae: 0.0448\n",
            "Epoch 20/20\n",
            "219/219 [==============================] - 0s 2ms/step - loss: 0.0031 - mae: 0.0446\n"
          ]
        }
      ]
    },
    {
      "cell_type": "code",
      "source": [
        "# 1 neuron rekurencyjny (RNN)\n",
        "# simple rnn\n",
        "\n",
        "modelRnn = keras.models.Sequential([\n",
        "    keras.layers.SimpleRNN(1, input_shape = [None,1])\n",
        "])"
      ],
      "metadata": {
        "id": "PE3K3hbQfjVj"
      },
      "execution_count": 31,
      "outputs": []
    },
    {
      "cell_type": "code",
      "source": [
        "modelRnn.compile(optimizer = 'Adam', loss = 'mse', metrics = 'mae')\n",
        "t0 = time.time()\n",
        "history = modelRnn.fit(xtrain, ytrain, epochs = 20)\n",
        "t1 = time.time()\n",
        "total2 = t1-t0"
      ],
      "metadata": {
        "colab": {
          "base_uri": "https://localhost:8080/"
        },
        "id": "xvx0syUfflEb",
        "outputId": "1281b3dc-b2d8-48bc-80ea-b7e08ed042a4"
      },
      "execution_count": null,
      "outputs": [
        {
          "output_type": "stream",
          "name": "stdout",
          "text": [
            "Epoch 1/20\n",
            "219/219 [==============================] - 3s 9ms/step - loss: 0.1394 - mae: 0.3204\n",
            "Epoch 2/20\n",
            "219/219 [==============================] - 2s 10ms/step - loss: 0.1390 - mae: 0.3201\n",
            "Epoch 3/20\n",
            "219/219 [==============================] - 3s 12ms/step - loss: 0.1397 - mae: 0.3211\n",
            "Epoch 4/20\n",
            "219/219 [==============================] - 4s 18ms/step - loss: 0.1394 - mae: 0.3209\n",
            "Epoch 5/20\n",
            "219/219 [==============================] - 3s 15ms/step - loss: 0.1396 - mae: 0.3209\n",
            "Epoch 6/20\n",
            "219/219 [==============================] - 2s 8ms/step - loss: 0.1410 - mae: 0.3224\n",
            "Epoch 7/20\n",
            "219/219 [==============================] - 2s 8ms/step - loss: 0.1392 - mae: 0.3210\n",
            "Epoch 8/20\n",
            "219/219 [==============================] - 2s 8ms/step - loss: 0.1399 - mae: 0.3214\n",
            "Epoch 9/20\n",
            "219/219 [==============================] - 2s 9ms/step - loss: 0.1392 - mae: 0.3204\n",
            "Epoch 10/20\n",
            "219/219 [==============================] - 2s 8ms/step - loss: 0.1389 - mae: 0.3205\n",
            "Epoch 11/20\n",
            "219/219 [==============================] - 3s 12ms/step - loss: 0.1385 - mae: 0.3196\n",
            "Epoch 12/20\n",
            "219/219 [==============================] - 2s 8ms/step - loss: 0.1385 - mae: 0.3198\n",
            "Epoch 13/20\n",
            "219/219 [==============================] - 2s 9ms/step - loss: 0.1385 - mae: 0.3198\n",
            "Epoch 14/20\n",
            "219/219 [==============================] - 2s 8ms/step - loss: 0.1394 - mae: 0.3208\n",
            "Epoch 15/20\n",
            "219/219 [==============================] - 2s 8ms/step - loss: 0.1386 - mae: 0.3196\n",
            "Epoch 16/20\n",
            "219/219 [==============================] - 2s 8ms/step - loss: 0.1391 - mae: 0.3206\n",
            "Epoch 17/20\n",
            "219/219 [==============================] - 2s 10ms/step - loss: 0.1387 - mae: 0.3203\n",
            "Epoch 18/20\n",
            "219/219 [==============================] - 2s 11ms/step - loss: 0.1400 - mae: 0.3214\n",
            "Epoch 19/20\n",
            "219/219 [==============================] - 2s 8ms/step - loss: 0.1386 - mae: 0.3200\n",
            "Epoch 20/20\n",
            "219/219 [==============================] - 2s 8ms/step - loss: 0.1391 - mae: 0.3203\n"
          ]
        }
      ]
    },
    {
      "cell_type": "code",
      "source": [
        "# glebsza siec RNN (20, 20, 1)\n",
        "modelDRnn = keras.models.Sequential([\n",
        "    keras.layers.SimpleRNN(20, return_sequences = True, input_shape = [None, 1]),\n",
        "    keras.layers.SimpleRNN(20, return_sequences = True),\n",
        "    keras.layers.SimpleRNN(1)\n",
        "])"
      ],
      "metadata": {
        "id": "32br6pnJflGc"
      },
      "execution_count": 34,
      "outputs": []
    },
    {
      "cell_type": "code",
      "source": [
        "modelDRnn.compile(optimizer = 'Adam', loss = 'mse', metrics = 'mae')\n",
        "t0 = time.time()\n",
        "history = modelDRnn.fit(xtrain, ytrain, epochs = 20)\n",
        "t1 = time.time()\n",
        "total3 = t1-t0"
      ],
      "metadata": {
        "id": "Ime8cE5IfmS8"
      },
      "execution_count": null,
      "outputs": []
    },
    {
      "cell_type": "code",
      "source": [
        "# zamiana ostatniego na \"Dense\" (szybciej i podobne efekty, a ogolniejsza aktywacja)\n",
        "ModelDRnn2 = keras.models.Sequential([\n",
        "    keras.layers.SimpleRNN(20, return_sequences = True, input_shape = [None, 1]),\n",
        "    keras.layers.SimpleRNN(20),# return_sequences = True), # must be OFF if the next is Dense\n",
        "    keras.layers.Dense(1) # uses tanh activation by default\n",
        "])"
      ],
      "metadata": {
        "id": "YRxl59yxfmVO"
      },
      "execution_count": 37,
      "outputs": []
    },
    {
      "cell_type": "code",
      "source": [
        "ModelDRnn2.compile(optimizer = 'Adam', loss = 'mse', metrics = 'mae')\n",
        "t0 = time.time()\n",
        "history = ModelDRnn2.fit(xtrain, ytrain, epochs = 20)\n",
        "t1 = time.time()\n",
        "total4 = t1-t0"
      ],
      "metadata": {
        "id": "8O1qey8Cfnsc"
      },
      "execution_count": null,
      "outputs": []
    },
    {
      "cell_type": "code",
      "source": [
        "model.evaluate(xtest, ytest)\n",
        "model.summary()\n",
        "total\n",
        "\n",
        "modelRnn.evaluate(xtest, ytest)\n",
        "modelRnn.summary()\n",
        "total2\n",
        "\n",
        "modelDRnn.evaluate(xtest, ytest)\n",
        "modelDRnn.summary()\n",
        "total3\n",
        "\n",
        "odelDRnn2.evaluate(xtest, ytest)\n",
        "odelDRnn2.summary()\n",
        "total4"
      ],
      "metadata": {
        "colab": {
          "base_uri": "https://localhost:8080/"
        },
        "id": "3VEy07tvmPZk",
        "outputId": "88eaacf2-7f51-4d3d-9a73-54946c12d5ee"
      },
      "execution_count": 42,
      "outputs": [
        {
          "output_type": "stream",
          "name": "stdout",
          "text": [
            "32/32 [==============================] - 0s 1ms/step - loss: 0.0037 - mae: 0.0488\n",
            "Model: \"sequential_3\"\n",
            "_________________________________________________________________\n",
            " Layer (type)                Output Shape              Param #   \n",
            "=================================================================\n",
            " flatten_1 (Flatten)         (None, 50)                0         \n",
            "                                                                 \n",
            " dense_1 (Dense)             (None, 1)                 51        \n",
            "                                                                 \n",
            "=================================================================\n",
            "Total params: 51\n",
            "Trainable params: 51\n",
            "Non-trainable params: 0\n",
            "_________________________________________________________________\n",
            "32/32 [==============================] - 0s 3ms/step - loss: 0.1383 - mae: 0.3200\n",
            "Model: \"sequential_4\"\n",
            "_________________________________________________________________\n",
            " Layer (type)                Output Shape              Param #   \n",
            "=================================================================\n",
            " simple_rnn_4 (SimpleRNN)    (None, 1)                 3         \n",
            "                                                                 \n",
            "=================================================================\n",
            "Total params: 3\n",
            "Trainable params: 3\n",
            "Non-trainable params: 0\n",
            "_________________________________________________________________\n",
            "32/32 [==============================] - 0s 8ms/step - loss: 0.0032 - mae: 0.0450\n",
            "Model: \"sequential_5\"\n",
            "_________________________________________________________________\n",
            " Layer (type)                Output Shape              Param #   \n",
            "=================================================================\n",
            " simple_rnn_5 (SimpleRNN)    (None, None, 20)          440       \n",
            "                                                                 \n",
            " simple_rnn_6 (SimpleRNN)    (None, None, 20)          820       \n",
            "                                                                 \n",
            " simple_rnn_7 (SimpleRNN)    (None, 1)                 22        \n",
            "                                                                 \n",
            "=================================================================\n",
            "Total params: 1,282\n",
            "Trainable params: 1,282\n",
            "Non-trainable params: 0\n",
            "_________________________________________________________________\n",
            "32/32 [==============================] - 0s 6ms/step - loss: 0.0030 - mae: 0.0441\n",
            "Model: \"sequential_6\"\n",
            "_________________________________________________________________\n",
            " Layer (type)                Output Shape              Param #   \n",
            "=================================================================\n",
            " simple_rnn_8 (SimpleRNN)    (None, None, 20)          440       \n",
            "                                                                 \n",
            " simple_rnn_9 (SimpleRNN)    (None, 20)                820       \n",
            "                                                                 \n",
            " dense_2 (Dense)             (None, 1)                 21        \n",
            "                                                                 \n",
            "=================================================================\n",
            "Total params: 1,281\n",
            "Trainable params: 1,281\n",
            "Non-trainable params: 0\n",
            "_________________________________________________________________\n"
          ]
        }
      ]
    }
  ]
}