{
 "cells": [
  {
   "cell_type": "code",
   "execution_count": 171,
   "metadata": {},
   "outputs": [
    {
     "name": "stdout",
     "output_type": "stream",
     "text": [
      "Train dataset shape: (8982,), and type: object\n",
      "Test dataset shape: (2246,), and type: object\n",
      "Example of sample: [1, 2, 2, 8, 43, 10, 447, 5, 25, 207, 270, 5, 3095, 111, 16, 369, 186, 90, 67, 7, 89, 5, 19, 102, 6, 19, 124, 15, 90, 67, 84, 22, 482, 26, 7, 48, 4, 49, 8, 864, 39, 209, 154, 6, 151, 6, 83, 11, 15, 22, 155, 11, 15, 7, 48, 9, 4579, 1005, 504, 6, 258, 6, 272, 11, 15, 22, 134, 44, 11, 15, 16, 8, 197, 1245, 90, 67, 52, 29, 209, 30, 32, 132, 6, 109, 15, 17, 12]\n"
     ]
    }
   ],
   "source": [
    "from tensorflow.keras.datasets import reuters\n",
    "\n",
    "size=10000\n",
    "\n",
    "(train_data, train_labels), (test_data, test_labels)=reuters.load_data(num_words=size)\n",
    "\n",
    "print(f'Train dataset shape: {train_data.shape}, and type: {train_data.dtype}')\n",
    "print(f'Test dataset shape: {test_data.shape}, and type: {test_data.dtype}')\n",
    "print(f'Example of sample: {train_data[0]}')"
   ]
  },
  {
   "cell_type": "code",
   "execution_count": 172,
   "metadata": {},
   "outputs": [
    {
     "name": "stdout",
     "output_type": "stream",
     "text": [
      "[ 0  1  2  3  4  5  6  7  8  9 10 11 12 13 14 15 16 17 18 19 20 21 22 23\n",
      " 24 25 26 27 28 29 30 31 32 33 34 35 36 37 38 39 40 41 42 43 44 45]\n",
      "[ 0  1  2  3  4  5  6  7  8  9 10 11 12 13 14 15 16 17 18 19 20 21 22 23\n",
      " 24 25 26 27 28 29 30 31 32 33 34 35 36 37 38 39 40 41 42 43 44 45]\n"
     ]
    }
   ],
   "source": [
    "import numpy as np\n",
    "\n",
    "print(np.unique(train_labels))\n",
    "print(np.unique(test_labels))"
   ]
  },
  {
   "cell_type": "code",
   "execution_count": 173,
   "metadata": {},
   "outputs": [
    {
     "name": "stdout",
     "output_type": "stream",
     "text": [
      "Example of 8. indexes : [('mdbl', 10996), ('fawc', 16260), ('degussa', 12089), ('woods', 8803), ('hanging', 13796), ('localized', 20672), ('sation', 20673), ('chanthaburi', 20675)]\n",
      "3 ? ? ? said as a result of its december acquisition of space co it expects earnings per share in 1987 of 1 15 to 1 30 dlrs per share up from 70 cts in 1986 the company said pretax net should rise to nine to 10 mln dlrs from six mln dlrs in 1986 and rental operation revenues to 19 to 22 mln dlrs from 12 5 mln dlrs it said cash flow per share this year should be 2 50 to three dlrs reuter 3\n",
      "4 ? generale de banque sa lt ? br and lt heller overseas corp of chicago have each taken 50 pct stakes in ? company sa ? factors generale de banque said in a statement it gave no financial details of the transaction sa ? ? turnover in 1986 was 17 5 billion belgian francs reuter 3\n",
      "3 ? shr 3 28 dlrs vs 22 cts shr diluted 2 99 dlrs vs 22 cts net 46 0 mln vs 3 328 000 avg shrs 14 0 mln vs 15 2 mln year shr 5 41 dlrs vs 1 56 dlrs shr diluted 4 94 dlrs vs 1 50 dlrs net 78 2 mln vs 25 9 mln avg shrs 14 5 mln vs 15 1 mln note earnings per share reflect the two for one split effective january 6 1987 per share amounts are calculated after preferred stock dividends loss continuing operations for the qtr 1986 includes gains of sale of investments in ? corp of 14 mln dlrs and associated companies of 4 189 000 less writedowns of investments in national ? inc of 11 8 mln and ? corp of 15 6 mln reuter 3\n",
      "4 ? the farmers home administration the u s agriculture department's farm lending arm could lose about seven billion dlrs in outstanding principal on its severely ? borrowers or about one fourth of its farm loan portfolio the general accounting office gao said in remarks prepared for delivery to the senate agriculture committee brian crowley senior associate director of gao also said that a preliminary analysis of proposed changes in ? financial eligibility standards indicated as many as one half of ? borrowers who received new loans from the agency in 1986 would be ? under the proposed system the agency has proposed evaluating ? credit using a variety of financial ratios instead of relying solely on ? ability senate agriculture committee chairman patrick leahy d vt ? the proposed eligibility changes telling ? administrator ? clark at a hearing that they would mark a dramatic shift in the agency's purpose away from being farmers' lender of last resort toward becoming a big city bank but clark defended the new regulations saying the agency had a responsibility to ? its 70 billion dlr loan portfolio in a ? yet ? manner crowley of gao ? ? arm said the proposed credit ? system attempted to ensure that ? would make loans only to borrowers who had a reasonable change of repaying their debt reuter 3\n",
      "4 ? seton co said its board has received a proposal from chairman and chief executive officer philip d ? to acquire seton for 15 75 dlrs per share in cash seton said the acquisition bid is subject to ? arranging the necessary financing it said he intends to ask other members of senior management to participate the company said ? owns 30 pct of seton stock and other management members another 7 5 pct seton said it has formed an independent board committee to consider the offer and has deferred the annual meeting it had scheduled for march 31 reuter 3\n",
      "4 ? the u s agriculture department estimated canada's 1986 87 wheat crop at 31 85 mln tonnes vs 31 85 mln tonnes last month it estimated 1985 86 output at 24 25 mln tonnes vs 24 25 mln last month canadian 1986 87 coarse grain production is projected at 27 62 mln tonnes vs 27 62 mln tonnes last month production in 1985 86 is estimated at 24 95 mln tonnes vs 24 95 mln last month canadian wheat exports in 1986 87 are forecast at 19 00 mln tonnes vs 18 00 mln tonnes last month exports in 1985 86 are estimated at 17 71 mln tonnes vs 17 72 mln last month reuter 3\n",
      "4 ? lt qintex america ltd said it is again extending its offer of 13 dlrs a share for 3 3 mln princeville development corp shares until today from yesterday at midnight yesterday 7 242 117 princeville shares had been tendered up from 5 887 165 shares 24 hours earlier qintex said it is extending the offer to allow princeville to comply with federal law restricting the ownership of u s airlines by non u s citizens and to finalize the terms and conditions of the letter of credit or bank guarantee required under the previously announced acquisition agreement reuter 3\n"
     ]
    }
   ],
   "source": [
    "word_index=reuters.get_word_index()\n",
    "print(f'Example of 8. indexes : {list(word_index.items())[0:8]}')\n",
    "\n",
    "#change positions\n",
    "inverted_index=dict([v,k] for (k,v) in word_index.items())\n",
    "def decodeNews(wordList):\n",
    "    return \" \".join([inverted_index.get(i-3, '?') for i in wordList])\n",
    "\n",
    "#decoding firsts 7 reviews in train set (with labels of sentiment)\n",
    "for i in range(7):\n",
    "    print(train_labels[i], decodeNews(train_data[i]))"
   ]
  },
  {
   "cell_type": "code",
   "execution_count": 174,
   "metadata": {},
   "outputs": [
    {
     "data": {
      "image/png": "[encoded data removed]",
      "text/plain": [
       "<Figure size 432x288 with 1 Axes>"
      ]
     },
     "metadata": {
      "needs_background": "light"
     },
     "output_type": "display_data"
    }
   ],
   "source": [
    "import matplotlib.pyplot as plt\n",
    "\n",
    "plt.hist(train_labels, alpha=0.9, label='Train data')\n",
    "plt.hist(test_labels, alpha=0.7, label='Test data')\n",
    "plt.legend(loc='upper right')\n",
    "plt.show()"
   ]
  },
  {
   "cell_type": "code",
   "execution_count": 175,
   "metadata": {},
   "outputs": [
    {
     "name": "stdout",
     "output_type": "stream",
     "text": [
      "Sample of encoded training set: [[0. 1. 1. ... 0. 0. 0.]\n",
      " [0. 1. 1. ... 0. 0. 0.]\n",
      " [0. 1. 1. ... 0. 0. 0.]\n",
      " [0. 1. 1. ... 0. 0. 0.]\n",
      " [0. 1. 0. ... 0. 0. 0.]]\n",
      "Sample of encoded test set: [[0. 1. 1. ... 0. 0. 0.]\n",
      " [0. 1. 1. ... 0. 0. 0.]\n",
      " [0. 1. 1. ... 0. 0. 0.]\n",
      " [0. 1. 1. ... 0. 0. 0.]\n",
      " [0. 1. 1. ... 0. 0. 0.]]\n"
     ]
    }
   ],
   "source": [
    "#bag of words\n",
    "def bowEncode(data, dimension=size):\n",
    "    #create an array with zeros es long as data (e.g. training set)\n",
    "    result=np.zeros((len(data), dimension))\n",
    "    #for all index:values pair in enumerate data\n",
    "    for index, value in enumerate(data):\n",
    "        for word in value:\n",
    "            result[index,word]=1.\n",
    "    #return a samples with 1, as on samples posision's was a word from bag of words        \n",
    "    return result\n",
    "\n",
    "x_train=bowEncode(train_data)\n",
    "x_test=bowEncode(test_data)\n",
    "\n",
    "print(f'Sample of encoded training set: {x_train[1:6]}')\n",
    "print(f'Sample of encoded test set: {x_test[1:6]}')"
   ]
  },
  {
   "cell_type": "code",
   "execution_count": 176,
   "metadata": {},
   "outputs": [
    {
     "name": "stdout",
     "output_type": "stream",
     "text": [
      "[ 3.  4.  3. ... 25.  3. 25.]\n",
      "(8982,)\n"
     ]
    }
   ],
   "source": [
    "y_train=np.asarray(train_labels).astype(\"float32\")\n",
    "y_test=np.asarray(test_labels).astype(\"float32\")\n",
    "\n",
    "print(y_train)\n",
    "print(y_train.shape)"
   ]
  },
  {
   "cell_type": "code",
   "execution_count": 177,
   "metadata": {},
   "outputs": [
    {
     "name": "stdout",
     "output_type": "stream",
     "text": [
      "one_hot_train_labels sample : [0. 0. 0. 1. 0. 0. 0. 0. 0. 0. 0. 0. 0. 0. 0. 0. 0. 0. 0. 0. 0. 0. 0. 0.\n",
      " 0. 0. 0. 0. 0. 0. 0. 0. 0. 0. 0. 0. 0. 0. 0. 0. 0. 0. 0. 0. 0. 0.]\n"
     ]
    }
   ],
   "source": [
    "#  one-hot encoding\n",
    "def to_one_hot(labels, dimension=46):\n",
    "    results = np.zeros((len(labels), dimension))\n",
    "    for i,label in enumerate(labels):\n",
    "        results[i,label] = 1\n",
    "    return results\n",
    "\n",
    "one_hot_train_labels = to_one_hot(train_labels)\n",
    "one_hot_test_labels = to_one_hot(test_labels)\n",
    "\n",
    "print(f'one_hot_train_labels sample : {one_hot_train_labels[0]}')"
   ]
  },
  {
   "cell_type": "code",
   "execution_count": 178,
   "metadata": {},
   "outputs": [
    {
     "data": {
      "text/plain": [
       "array([0., 0., 0., 1., 0., 0., 0., 0., 0., 0., 0., 0., 0., 0., 0., 0., 0.,\n",
       "       0., 0., 0., 0., 0., 0., 0., 0., 0., 0., 0., 0., 0., 0., 0., 0., 0.,\n",
       "       0., 0., 0., 0., 0., 0., 0., 0., 0., 0., 0., 0.], dtype=float32)"
      ]
     },
     "execution_count": 178,
     "metadata": {},
     "output_type": "execute_result"
    }
   ],
   "source": [
    "# crreating an array with keras function\n",
    "from keras.utils.np_utils import to_categorical\n",
    "\n",
    "one_hot_train_labels = to_categorical(train_labels)\n",
    "one_hot_test_labels = to_categorical(test_labels)\n",
    "\n",
    "one_hot_train_labels[0]"
   ]
  },
  {
   "cell_type": "code",
   "execution_count": 179,
   "metadata": {},
   "outputs": [],
   "source": [
    "train_frac = 0.9\n",
    "ntr = int(train_frac*x_train.shape[0])\n",
    "xp_train = x_train[:ntr] # x partial train\n",
    "yp_train = one_hot_train_labels[:ntr]\n",
    "x_val = x_train[ntr:]\n",
    "y_val = one_hot_train_labels[ntr:]"
   ]
  },
  {
   "cell_type": "code",
   "execution_count": 180,
   "metadata": {},
   "outputs": [],
   "source": [
    "from keras import models\n",
    "from keras import layers\n",
    "\n",
    "model = models.Sequential()\n",
    "model.add(layers.Dense(64, activation='relu', input_shape=(5000,)))\n",
    "model.add(layers.Dense(64, activation='relu'))\n",
    "model.add(layers.Dense(46, activation='softmax'))                             # warstwa wyjściowa ma 46 neuronów, bo jest 46 kategorii i softmax, bo klasyfikacja wieloklasowa i potem z tego samego powodu categorical crossentropy\n",
    "\n",
    "model.compile(optimizer='rmsprop',\n",
    "              loss='categorical_crossentropy',\n",
    "              metrics=['accuracy'])"
   ]
  },
  {
   "cell_type": "code",
   "execution_count": 181,
   "metadata": {},
   "outputs": [
    {
     "name": "stdout",
     "output_type": "stream",
     "text": [
      "Epoch 1/20\n",
      "64/64 [==============================] - 0s 4ms/step - loss: 1.8785 - accuracy: 0.6145 - val_loss: 1.3327 - val_accuracy: 0.7108\n",
      "Epoch 2/20\n",
      "64/64 [==============================] - 0s 3ms/step - loss: 0.9928 - accuracy: 0.7804 - val_loss: 1.1506 - val_accuracy: 0.7475\n",
      "Epoch 3/20\n",
      "64/64 [==============================] - 0s 3ms/step - loss: 0.6860 - accuracy: 0.8489 - val_loss: 1.0439 - val_accuracy: 0.7742\n",
      "Epoch 4/20\n",
      "64/64 [==============================] - 0s 4ms/step - loss: 0.4786 - accuracy: 0.8999 - val_loss: 0.9992 - val_accuracy: 0.8020\n",
      "Epoch 5/20\n",
      "64/64 [==============================] - 0s 4ms/step - loss: 0.3479 - accuracy: 0.9254 - val_loss: 0.9735 - val_accuracy: 0.7942\n",
      "Epoch 6/20\n",
      "64/64 [==============================] - 0s 3ms/step - loss: 0.2717 - accuracy: 0.9388 - val_loss: 1.0203 - val_accuracy: 0.7998\n",
      "Epoch 7/20\n",
      "64/64 [==============================] - 0s 4ms/step - loss: 0.2224 - accuracy: 0.9474 - val_loss: 1.0114 - val_accuracy: 0.8065\n",
      "Epoch 8/20\n",
      "64/64 [==============================] - 0s 4ms/step - loss: 0.1907 - accuracy: 0.9531 - val_loss: 1.0080 - val_accuracy: 0.8031\n",
      "Epoch 9/20\n",
      "64/64 [==============================] - 0s 4ms/step - loss: 0.1698 - accuracy: 0.9536 - val_loss: 1.0609 - val_accuracy: 0.7909\n",
      "Epoch 10/20\n",
      "64/64 [==============================] - 0s 4ms/step - loss: 0.1563 - accuracy: 0.9563 - val_loss: 1.0993 - val_accuracy: 0.8020\n",
      "Epoch 11/20\n",
      "64/64 [==============================] - 0s 3ms/step - loss: 0.1455 - accuracy: 0.9569 - val_loss: 1.1266 - val_accuracy: 0.7909\n",
      "Epoch 12/20\n",
      "64/64 [==============================] - 0s 3ms/step - loss: 0.1426 - accuracy: 0.9574 - val_loss: 1.0833 - val_accuracy: 0.7942\n",
      "Epoch 13/20\n",
      "64/64 [==============================] - 0s 3ms/step - loss: 0.1358 - accuracy: 0.9563 - val_loss: 1.1404 - val_accuracy: 0.7931\n",
      "Epoch 14/20\n",
      "64/64 [==============================] - 0s 4ms/step - loss: 0.1285 - accuracy: 0.9562 - val_loss: 1.1654 - val_accuracy: 0.7898\n",
      "Epoch 15/20\n",
      "64/64 [==============================] - 0s 4ms/step - loss: 0.1270 - accuracy: 0.9587 - val_loss: 1.1683 - val_accuracy: 0.7809\n",
      "Epoch 16/20\n",
      "64/64 [==============================] - 0s 4ms/step - loss: 0.1239 - accuracy: 0.9569 - val_loss: 1.1467 - val_accuracy: 0.7842\n",
      "Epoch 17/20\n",
      "64/64 [==============================] - 0s 3ms/step - loss: 0.1194 - accuracy: 0.9582 - val_loss: 1.1450 - val_accuracy: 0.8042\n",
      "Epoch 18/20\n",
      "64/64 [==============================] - 0s 3ms/step - loss: 0.1164 - accuracy: 0.9589 - val_loss: 1.1277 - val_accuracy: 0.7931\n",
      "Epoch 19/20\n",
      "64/64 [==============================] - 0s 4ms/step - loss: 0.1168 - accuracy: 0.9582 - val_loss: 1.1551 - val_accuracy: 0.7987\n",
      "Epoch 20/20\n",
      "64/64 [==============================] - 0s 4ms/step - loss: 0.1113 - accuracy: 0.9583 - val_loss: 1.1488 - val_accuracy: 0.7931\n",
      "Model: \"sequential_49\"\n",
      "_________________________________________________________________\n",
      " Layer (type)                Output Shape              Param #   \n",
      "=================================================================\n",
      " dense_147 (Dense)           (None, 64)                320064    \n",
      "                                                                 \n",
      " dense_148 (Dense)           (None, 64)                4160      \n",
      "                                                                 \n",
      " dense_149 (Dense)           (None, 46)                2990      \n",
      "                                                                 \n",
      "=================================================================\n",
      "Total params: 327,214\n",
      "Trainable params: 327,214\n",
      "Non-trainable params: 0\n",
      "_________________________________________________________________\n"
     ]
    }
   ],
   "source": [
    "from keras import models, layers\n",
    "\n",
    "epochs = 20\n",
    "\n",
    "model1 = models.Sequential([\n",
    "    #dense: neurons, activation function\n",
    "    layers.Dense(64, activation='relu'),\n",
    "    layers.Dense(64, activation='relu'),\n",
    "    layers.Dense(46, activation = 'softmax') #softmax for many classes\n",
    "])\n",
    "\n",
    "model1.compile(optimizer=\"rmsprop\",\n",
    "              loss=\"categorical_crossentropy\",\n",
    "              metrics=[\"accuracy\"])\n",
    "history1 = model1.fit(xp_train,yp_train, epochs = epochs, batch_size = 128, validation_data= (x_val, y_val), verbose = 1)\n",
    "model.summary()"
   ]
  },
  {
   "cell_type": "code",
   "execution_count": 182,
   "metadata": {},
   "outputs": [
    {
     "data": {
      "image/png": "[encoded data removed]",
      "text/plain": [
       "<Figure size 432x288 with 1 Axes>"
      ]
     },
     "metadata": {
      "needs_background": "light"
     },
     "output_type": "display_data"
    },
    {
     "data": {
      "image/png": "[encoded data removed]",
      "text/plain": [
       "<Figure size 432x288 with 1 Axes>"
      ]
     },
     "metadata": {
      "needs_background": "light"
     },
     "output_type": "display_data"
    },
    {
     "name": "stdout",
     "output_type": "stream",
     "text": [
      "71/71 [==============================] - 0s 617us/step - loss: 1.1500 - accuracy: 0.7885\n",
      "[1.1499518156051636, 0.7885128855705261]\n"
     ]
    }
   ],
   "source": [
    "import matplotlib.pyplot as plt\n",
    "#from sklearn.metrics import accuracy_score, confusion_matrics\n",
    "\n",
    "history_dict1 = history1.history\n",
    "loss_values1 = history_dict1[\"loss\"]\n",
    "val_loss_values1 = history_dict1[\"val_loss\"]\n",
    "epochs1 = range(1, len(loss_values1) + 1)\n",
    "\n",
    "plt.plot(epochs1, loss_values1, \"b\", label=\"Training loss\")\n",
    "plt.plot(epochs1, val_loss_values1, \"b--\", label=\"Validation loss\")\n",
    "plt.title(\"Training and validation loss\")\n",
    "plt.xlabel(\"Epochs\")\n",
    "plt.ylabel(\"Loss\")\n",
    "plt.legend()\n",
    "plt.show()\n",
    "plt.figure()\n",
    "plt.clf()\n",
    "acc1 = history_dict1[\"accuracy\"]\n",
    "\n",
    "val_acc1 = history_dict1[\"val_accuracy\"]\n",
    "plt.plot(epochs1, acc1, \"b\", label=\"Training acc\")\n",
    "plt.plot(epochs1, val_acc1, \"b--\", label=\"Validation acc\")\n",
    "plt.title(\"Training and validation accuracy\")\n",
    "plt.xlabel(\"Epochs\")\n",
    "plt.ylabel(\"Accuracy\")\n",
    "plt.legend()\n",
    "plt.show()\n",
    "print(model1.evaluate(x_test,one_hot_test_labels))"
   ]
  },
  {
   "cell_type": "code",
   "execution_count": 183,
   "metadata": {},
   "outputs": [
    {
     "name": "stdout",
     "output_type": "stream",
     "text": [
      "Epoch 1/3\n",
      "64/64 [==============================] - 0s 4ms/step - loss: 1.8593 - accuracy: 0.6171 - val_loss: 1.3429 - val_accuracy: 0.7175\n",
      "Epoch 2/3\n",
      "64/64 [==============================] - 0s 3ms/step - loss: 0.9702 - accuracy: 0.7912 - val_loss: 1.1248 - val_accuracy: 0.7542\n",
      "Epoch 3/3\n",
      "64/64 [==============================] - 0s 3ms/step - loss: 0.6653 - accuracy: 0.8559 - val_loss: 1.0407 - val_accuracy: 0.7686\n",
      "Model: \"sequential_51\"\n",
      "_________________________________________________________________\n",
      " Layer (type)                Output Shape              Param #   \n",
      "=================================================================\n",
      " dense_153 (Dense)           (None, 64)                640064    \n",
      "                                                                 \n",
      " dense_154 (Dense)           (None, 64)                4160      \n",
      "                                                                 \n",
      " dense_155 (Dense)           (None, 46)                2990      \n",
      "                                                                 \n",
      "=================================================================\n",
      "Total params: 647,214\n",
      "Trainable params: 647,214\n",
      "Non-trainable params: 0\n",
      "_________________________________________________________________\n"
     ]
    }
   ],
   "source": [
    "epochs = 3\n",
    "\n",
    "model2 = models.Sequential([\n",
    "    #dense: neurons, activation function\n",
    "    layers.Dense(64, activation='relu'),\n",
    "    layers.Dense(64, activation='relu'),\n",
    "    layers.Dense(46, activation = 'softmax') #softmax for many classes\n",
    "])\n",
    "\n",
    "model2.compile(optimizer=\"rmsprop\",\n",
    "              loss=\"categorical_crossentropy\",\n",
    "              metrics=[\"accuracy\"])\n",
    "history2 = model2.fit(xp_train,yp_train, epochs = epochs, batch_size = 128, validation_data= (x_val, y_val), verbose = 1)\n",
    "model2.summary()"
   ]
  },
  {
   "cell_type": "code",
   "execution_count": 184,
   "metadata": {},
   "outputs": [
    {
     "data": {
      "image/png": "[encoded data removed]",
      "text/plain": [
       "<Figure size 432x288 with 1 Axes>"
      ]
     },
     "metadata": {
      "needs_background": "light"
     },
     "output_type": "display_data"
    },
    {
     "data": {
      "image/png": "[encoded data removed]",
      "text/plain": [
       "<Figure size 432x288 with 1 Axes>"
      ]
     },
     "metadata": {
      "needs_background": "light"
     },
     "output_type": "display_data"
    },
    {
     "name": "stdout",
     "output_type": "stream",
     "text": [
      "71/71 [==============================] - 0s 634us/step - loss: 0.9622 - accuracy: 0.7778\n",
      "[0.9621661305427551, 0.777827262878418]\n"
     ]
    }
   ],
   "source": [
    "import matplotlib.pyplot as plt\n",
    "#from sklearn.metrics import accuracy_score, confusion_matrics\n",
    "\n",
    "i=2\n",
    "history_dict = 'history_dict{}'.format(i)\n",
    "loss_values = 'loss_values{}'.format(i)\n",
    "val_loss_values = 'val_loss_values{}'.format(i)\n",
    "epochs = 'epochs{}'.format(i)\n",
    "acc = 'acc{}'.format(i)\n",
    "val_acc = 'val_acc{}'.format(i)\n",
    "predicted = 'predicted{}'.format(i)\n",
    "model = 'model{}'.format(i)\n",
    "color = 'b'\n",
    "\n",
    "history_dict = history2.history #\n",
    "loss_values = history_dict[\"loss\"]\n",
    "val_loss_values = history_dict[\"val_loss\"]\n",
    "epochs = range(1, len(loss_values) + 1)\n",
    "\n",
    "plt.plot(epochs, loss_values, \"b\", label=\"Training loss\")\n",
    "plt.plot(epochs, val_loss_values, \"b--\", label=\"Validation loss\")\n",
    "plt.title(\"Training and validation loss\")\n",
    "plt.xlabel(\"Epochs\")\n",
    "plt.ylabel(\"Loss\")\n",
    "plt.legend()\n",
    "plt.show()\n",
    "plt.figure()\n",
    "plt.clf()\n",
    "\n",
    "acc = history_dict[\"accuracy\"]\n",
    "val_acc = history_dict[\"val_accuracy\"]\n",
    "plt.plot(epochs, acc, \"b\", label=\"Training acc\")\n",
    "plt.plot(epochs, val_acc, \"b--\", label=\"Validation acc\")\n",
    "plt.title(\"Training and validation accuracy\")\n",
    "plt.xlabel(\"Epochs\")\n",
    "plt.ylabel(\"Accuracy\")\n",
    "plt.legend()\n",
    "plt.show()\n",
    "print(model2.evaluate(x_test,one_hot_test_labels)) #"
   ]
  },
  {
   "cell_type": "code",
   "execution_count": 203,
   "metadata": {},
   "outputs": [
    {
     "ename": "AttributeError",
     "evalue": "module 'scipy.stats' has no attribute 'reciprocal'",
     "output_type": "error",
     "traceback": [
      "\u001b[0;31m---------------------------------------------------------------------------\u001b[0m",
      "\u001b[0;31mAttributeError\u001b[0m                            Traceback (most recent call last)",
      "\u001b[1;32mUntitled-2.ipynb Cell 15\u001b[0m in \u001b[0;36m<cell line: 1>\u001b[0;34m()\u001b[0m\n\u001b[0;32m----> <a href='vscode-notebook-cell:Untitled-2.ipynb?jupyter-notebook#X32sdW50aXRsZWQ%3D?line=0'>1</a>\u001b[0m \u001b[39mfrom\u001b[39;00m \u001b[39msklearn\u001b[39;00m\u001b[39m.\u001b[39;00m\u001b[39mcluster\u001b[39;00m \u001b[39mimport\u001b[39;00m KMeans\n\u001b[1;32m      <a href='vscode-notebook-cell:Untitled-2.ipynb?jupyter-notebook#X32sdW50aXRsZWQ%3D?line=2'>3</a>\u001b[0m kmeans \u001b[39m=\u001b[39m KMeans(n_clusters\u001b[39m=\u001b[39m\u001b[39m46\u001b[39m)\n\u001b[1;32m      <a href='vscode-notebook-cell:Untitled-2.ipynb?jupyter-notebook#X32sdW50aXRsZWQ%3D?line=3'>4</a>\u001b[0m kmeans\u001b[39m.\u001b[39mfit(x_train)\n",
      "File \u001b[0;32m/opt/homebrew/anaconda3/envs/WUM/lib/python3.9/site-packages/sklearn/__init__.py:82\u001b[0m, in \u001b[0;36m<module>\u001b[0;34m\u001b[0m\n\u001b[1;32m     80\u001b[0m \u001b[39mfrom\u001b[39;00m \u001b[39m.\u001b[39;00m \u001b[39mimport\u001b[39;00m _distributor_init  \u001b[39m# noqa: F401\u001b[39;00m\n\u001b[1;32m     81\u001b[0m \u001b[39mfrom\u001b[39;00m \u001b[39m.\u001b[39;00m \u001b[39mimport\u001b[39;00m __check_build  \u001b[39m# noqa: F401\u001b[39;00m\n\u001b[0;32m---> 82\u001b[0m \u001b[39mfrom\u001b[39;00m \u001b[39m.\u001b[39;00m\u001b[39mbase\u001b[39;00m \u001b[39mimport\u001b[39;00m clone\n\u001b[1;32m     83\u001b[0m \u001b[39mfrom\u001b[39;00m \u001b[39m.\u001b[39;00m\u001b[39mutils\u001b[39;00m\u001b[39m.\u001b[39;00m\u001b[39m_show_versions\u001b[39;00m \u001b[39mimport\u001b[39;00m show_versions\n\u001b[1;32m     85\u001b[0m __all__ \u001b[39m=\u001b[39m [\n\u001b[1;32m     86\u001b[0m     \u001b[39m\"\u001b[39m\u001b[39mcalibration\u001b[39m\u001b[39m\"\u001b[39m,\n\u001b[1;32m     87\u001b[0m     \u001b[39m\"\u001b[39m\u001b[39mcluster\u001b[39m\u001b[39m\"\u001b[39m,\n\u001b[0;32m   (...)\u001b[0m\n\u001b[1;32m    128\u001b[0m     \u001b[39m\"\u001b[39m\u001b[39mshow_versions\u001b[39m\u001b[39m\"\u001b[39m,\n\u001b[1;32m    129\u001b[0m ]\n",
      "File \u001b[0;32m/opt/homebrew/anaconda3/envs/WUM/lib/python3.9/site-packages/sklearn/base.py:17\u001b[0m, in \u001b[0;36m<module>\u001b[0;34m\u001b[0m\n\u001b[1;32m     15\u001b[0m \u001b[39mfrom\u001b[39;00m \u001b[39m.\u001b[39;00m \u001b[39mimport\u001b[39;00m __version__\n\u001b[1;32m     16\u001b[0m \u001b[39mfrom\u001b[39;00m \u001b[39m.\u001b[39;00m\u001b[39m_config\u001b[39;00m \u001b[39mimport\u001b[39;00m get_config\n\u001b[0;32m---> 17\u001b[0m \u001b[39mfrom\u001b[39;00m \u001b[39m.\u001b[39;00m\u001b[39mutils\u001b[39;00m \u001b[39mimport\u001b[39;00m _IS_32BIT\n\u001b[1;32m     18\u001b[0m \u001b[39mfrom\u001b[39;00m \u001b[39m.\u001b[39;00m\u001b[39mutils\u001b[39;00m\u001b[39m.\u001b[39;00m\u001b[39m_set_output\u001b[39;00m \u001b[39mimport\u001b[39;00m _SetOutputMixin\n\u001b[1;32m     19\u001b[0m \u001b[39mfrom\u001b[39;00m \u001b[39m.\u001b[39;00m\u001b[39mutils\u001b[39;00m\u001b[39m.\u001b[39;00m\u001b[39m_tags\u001b[39;00m \u001b[39mimport\u001b[39;00m (\n\u001b[1;32m     20\u001b[0m     _DEFAULT_TAGS,\n\u001b[1;32m     21\u001b[0m )\n",
      "File \u001b[0;32m/opt/homebrew/anaconda3/envs/WUM/lib/python3.9/site-packages/sklearn/utils/__init__.py:25\u001b[0m, in \u001b[0;36m<module>\u001b[0;34m\u001b[0m\n\u001b[1;32m     23\u001b[0m \u001b[39mfrom\u001b[39;00m \u001b[39m.\u001b[39;00m\u001b[39mdeprecation\u001b[39;00m \u001b[39mimport\u001b[39;00m deprecated\n\u001b[1;32m     24\u001b[0m \u001b[39mfrom\u001b[39;00m \u001b[39m.\u001b[39;00m\u001b[39mdiscovery\u001b[39;00m \u001b[39mimport\u001b[39;00m all_estimators\n\u001b[0;32m---> 25\u001b[0m \u001b[39mfrom\u001b[39;00m \u001b[39m.\u001b[39;00m\u001b[39mfixes\u001b[39;00m \u001b[39mimport\u001b[39;00m parse_version, threadpool_info\n\u001b[1;32m     26\u001b[0m \u001b[39mfrom\u001b[39;00m \u001b[39m.\u001b[39;00m\u001b[39m_estimator_html_repr\u001b[39;00m \u001b[39mimport\u001b[39;00m estimator_html_repr\n\u001b[1;32m     27\u001b[0m \u001b[39mfrom\u001b[39;00m \u001b[39m.\u001b[39;00m\u001b[39mvalidation\u001b[39;00m \u001b[39mimport\u001b[39;00m (\n\u001b[1;32m     28\u001b[0m     as_float_array,\n\u001b[1;32m     29\u001b[0m     assert_all_finite,\n\u001b[0;32m   (...)\u001b[0m\n\u001b[1;32m     38\u001b[0m     _is_arraylike_not_scalar,\n\u001b[1;32m     39\u001b[0m )\n",
      "File \u001b[0;32m/opt/homebrew/anaconda3/envs/WUM/lib/python3.9/site-packages/sklearn/utils/fixes.py:48\u001b[0m, in \u001b[0;36m<module>\u001b[0;34m\u001b[0m\n\u001b[1;32m     44\u001b[0m \u001b[39mdef\u001b[39;00m \u001b[39m_object_dtype_isnan\u001b[39m(X):\n\u001b[1;32m     45\u001b[0m     \u001b[39mreturn\u001b[39;00m X \u001b[39m!=\u001b[39m X\n\u001b[0;32m---> 48\u001b[0m \u001b[39mclass\u001b[39;00m \u001b[39mloguniform\u001b[39;00m(scipy\u001b[39m.\u001b[39;49mstats\u001b[39m.\u001b[39;49mreciprocal):\n\u001b[1;32m     49\u001b[0m     \u001b[39m\"\"\"A class supporting log-uniform random variables.\u001b[39;00m\n\u001b[1;32m     50\u001b[0m \n\u001b[1;32m     51\u001b[0m \u001b[39m    Parameters\u001b[39;00m\n\u001b[0;32m   (...)\u001b[0m\n\u001b[1;32m     93\u001b[0m \u001b[39m    9.97403052786026\u001b[39;00m\n\u001b[1;32m     94\u001b[0m \u001b[39m    \"\"\"\u001b[39;00m\n\u001b[1;32m     97\u001b[0m \u001b[39m# TODO: remove when the minimum scipy version is >= 1.5\u001b[39;00m\n",
      "\u001b[0;31mAttributeError\u001b[0m: module 'scipy.stats' has no attribute 'reciprocal'"
     ]
    }
   ],
   "source": [
    "\n",
    "from sklearn.cluster import KMeans\n",
    "\n",
    "kmeans = KMeans(n_clusters=46)\n",
    "kmeans.fit(x_train)"
   ]
  },
  {
   "cell_type": "code",
   "execution_count": 201,
   "metadata": {},
   "outputs": [
    {
     "name": "stdout",
     "output_type": "stream",
     "text": [
      "[1 0 0 0]\n"
     ]
    }
   ],
   "source": [
    "import numpy as np\n",
    "\n",
    "arr = np.array([1, 2, 3, 4])\n",
    "reciprocal_arr = np.reciprocal(arr)\n",
    "print(reciprocal_arr)\n"
   ]
  }
 ],
 "metadata": {
  "kernelspec": {
   "display_name": "WUM",
   "language": "python",
   "name": "python3"
  },
  "language_info": {
   "codemirror_mode": {
    "name": "ipython",
    "version": 3
   },
   "file_extension": ".py",
   "mimetype": "text/x-python",
   "name": "python",
   "nbconvert_exporter": "python",
   "pygments_lexer": "ipython3",
   "version": "3.9.16"
  },
  "orig_nbformat": 4
 },
 "nbformat": 4,
 "nbformat_minor": 2
}
